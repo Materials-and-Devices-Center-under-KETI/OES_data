{
 "cells": [
  {
   "cell_type": "code",
   "execution_count": null,
   "id": "47571bd9-2b3c-4a63-9385-3abfc4604e45",
   "metadata": {},
   "outputs": [],
   "source": [
    "import pandas as pd\n",
    "N2 = pd.read_csv('plasma/plasma_N2_p.csv', index_col='Time')\n",
    "N2.head()"
   ]
  },
  {
   "cell_type": "code",
   "execution_count": null,
   "id": "9d6ef71f-58d8-43a5-9e55-895304d670d9",
   "metadata": {},
   "outputs": [],
   "source": []
  }
 ],
 "metadata": {
  "kernelspec": {
   "display_name": "Python 3 (ipykernel)",
   "language": "python",
   "name": "python3"
  },
  "language_info": {
   "codemirror_mode": {
    "name": "ipython",
    "version": 3
   },
   "file_extension": ".py",
   "mimetype": "text/x-python",
   "name": "python",
   "nbconvert_exporter": "python",
   "pygments_lexer": "ipython3",
   "version": "3.10.0"
  }
 },
 "nbformat": 4,
 "nbformat_minor": 5
}
