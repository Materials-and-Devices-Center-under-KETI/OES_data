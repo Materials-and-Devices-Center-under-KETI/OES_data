{
 "cells": [
  {
   "cell_type": "code",
   "execution_count": 1,
   "id": "6f6b4eb4-9584-45d7-84a0-2bf5d573aa94",
   "metadata": {},
   "outputs": [],
   "source": [
    "import pandas as pd\n",
    "import numpy as np\n",
    "import matplotlib.pyplot as plt"
   ]
  },
  {
   "cell_type": "code",
   "execution_count": 2,
   "id": "846fb51c-c72d-45f2-8e25-e5e4d49d19aa",
   "metadata": {},
   "outputs": [],
   "source": [
    "c10_N2 = pd.read_csv('file/process2/c10_N2.csv', index_col=0)\n",
    "c10_NH3 = pd.read_csv('file/process2/c10_NH3.csv', index_col=0)\n",
    "\n",
    "c20_N2 =  pd.read_csv('file/process2/c20_N2.csv', index_col=0)\n",
    "c20_NH3 = pd.read_csv('file/process2/c20_NH3.csv', index_col=0)\n",
    "\n",
    "c30_N2 = pd.read_csv('file/process2/c30_N2.csv', index_col=0)\n",
    "c30_NH3 = pd.read_csv('file/process2/c30_NH3.csv', index_col=0)\n",
    "\n",
    "c40_N2 =  pd.read_csv('file/process2/c40_N2.csv', index_col=0)\n",
    "c40_NH3 = pd.read_csv('file/process2/c40_NH3.csv', index_col=0)\n",
    "\n",
    "c50_N2 = pd.read_csv('file/process2/c50_N2.csv', index_col=0)\n",
    "c50_NH3 = pd.read_csv('file/process2/c50_NH3.csv', index_col=0)\n",
    "\n",
    "c60_N2 = pd.read_csv('file/process2/c60_N2.csv', index_col=0)\n",
    "c60_NH3 = pd.read_csv('file/process2/c60_NH3.csv', index_col=0)"
   ]
  },
  {
   "cell_type": "code",
   "execution_count": 3,
   "id": "38a06f32-c466-49fc-9c76-99967ae7ce63",
   "metadata": {},
   "outputs": [],
   "source": [
    "dfs = [c10_N2, c10_NH3, c20_N2, c20_NH3, c30_N2, c30_NH3, c40_N2, c40_NH3, c50_N2, c50_NH3, c60_N2, c60_NH3]\n",
    "dfs_temp =[]\n",
    "for df in dfs:\n",
    "    temp = pd.DataFrame(columns=df.columns[1:-1]) # df to fill\n",
    "    for idx, col in enumerate(df.columns[1:-1]):\n",
    "        temp[col] = df.iloc[:,idx] + df.iloc[:,idx+1] + df.iloc[:,idx+2]\n",
    "    dfs_temp.append(temp)"
   ]
  },
  {
   "cell_type": "code",
   "execution_count": 4,
   "id": "e2382571-fca8-4663-9507-1488e133afbe",
   "metadata": {},
   "outputs": [],
   "source": [
    "c10_N2 = dfs_temp[0]\n",
    "c10_NH3 = dfs_temp[1]\n",
    "\n",
    "c20_N2 =  dfs_temp[2]\n",
    "c20_NH3 = dfs_temp[3]\n",
    "\n",
    "c30_N2 = dfs_temp[4]\n",
    "c30_NH3 = dfs_temp[5]\n",
    "\n",
    "c40_N2 =  dfs_temp[6]\n",
    "c40_NH3 = dfs_temp[7]\n",
    "\n",
    "c50_N2 = dfs_temp[8]\n",
    "c50_NH3 = dfs_temp[9]\n",
    "\n",
    "c60_N2 = dfs_temp[10]\n",
    "c60_NH3 = dfs_temp[11]"
   ]
  },
  {
   "cell_type": "code",
   "execution_count": 5,
   "id": "1207e317-7770-43f9-81ee-b861c258f1a1",
   "metadata": {},
   "outputs": [],
   "source": [
    "# scaling and clustering\n",
    "from sklearn.preprocessing import MinMaxScaler\n",
    "c10_N2_scaled = c10_N2.copy()\n",
    "# nulify values less than 1000\n",
    "# absolute\n",
    "for i in range(len(c10_N2_scaled.index)):\n",
    "    for j in range(len(c10_N2_scaled.columns)):\n",
    "        if c10_N2_scaled.iloc[i,j]<0:\n",
    "            c10_N2_scaled.iloc[i,j]=0\n",
    "for i in range(len(c10_N2_scaled.columns)):\n",
    "    mm = MinMaxScaler()\n",
    "    mm.fit(np.array(c10_N2_scaled.iloc[:,i].values).reshape(-1,1))\n",
    "    c10_N2_scaled.iloc[:,i] = mm.transform(np.array(c10_N2_scaled.iloc[:,i].values).reshape(-1,1)).flatten()\n",
    "\n",
    "c20_N2_scaled = c20_N2.copy()\n",
    "# nulify values less than 1000\n",
    "# absolute\n",
    "for i in range(len(c20_N2_scaled.index)):\n",
    "    for j in range(len(c20_N2_scaled.columns)):\n",
    "        if c20_N2_scaled.iloc[i,j]<0:\n",
    "            c20_N2_scaled.iloc[i,j]=0\n",
    "for i in range(len(c20_N2_scaled.columns)):\n",
    "    mm = MinMaxScaler()\n",
    "    mm.fit(np.array(c20_N2_scaled.iloc[:,i].values).reshape(-1,1))\n",
    "    c20_N2_scaled.iloc[:,i] = mm.transform(np.array(c20_N2_scaled.iloc[:,i].values).reshape(-1,1)).flatten()\n",
    "\n",
    "c30_N2_scaled = c30_N2.copy()\n",
    "# nulify values less than 1000\n",
    "# absolute\n",
    "for i in range(len(c30_N2_scaled.index)):\n",
    "    for j in range(len(c30_N2_scaled.columns)):\n",
    "        if c30_N2_scaled.iloc[i,j]<0:\n",
    "            c30_N2_scaled.iloc[i,j]=0\n",
    "for i in range(len(c30_N2_scaled.columns)):\n",
    "    mm = MinMaxScaler()\n",
    "    mm.fit(np.array(c30_N2_scaled.iloc[:,i].values).reshape(-1,1))\n",
    "    c30_N2_scaled.iloc[:,i] = mm.transform(np.array(c30_N2_scaled.iloc[:,i].values).reshape(-1,1)).flatten()\n",
    "    \n",
    "c40_N2_scaled = c40_N2.copy()\n",
    "# nulify values less than 1000\n",
    "# absolute\n",
    "for i in range(len(c40_N2_scaled.index)):\n",
    "    for j in range(len(c40_N2_scaled.columns)):\n",
    "        if c40_N2_scaled.iloc[i,j]<0:\n",
    "            c40_N2_scaled.iloc[i,j]=0\n",
    "for i in range(len(c40_N2_scaled.columns)):\n",
    "    mm = MinMaxScaler()\n",
    "    mm.fit(np.array(c40_N2_scaled.iloc[:,i].values).reshape(-1,1))\n",
    "    c40_N2_scaled.iloc[:,i] = mm.transform(np.array(c40_N2_scaled.iloc[:,i].values).reshape(-1,1)).flatten()\n",
    "\n",
    "c50_N2_scaled = c50_N2.copy()\n",
    "# nulify values less than 1000\n",
    "# absolute\n",
    "for i in range(len(c50_N2_scaled.index)):\n",
    "    for j in range(len(c50_N2_scaled.columns)):\n",
    "        if c50_N2_scaled.iloc[i,j]<0:\n",
    "            c50_N2_scaled.iloc[i,j]=0\n",
    "for i in range(len(c50_N2_scaled.columns)):\n",
    "    mm = MinMaxScaler()\n",
    "    mm.fit(np.array(c50_N2_scaled.iloc[:,i].values).reshape(-1,1))\n",
    "    c50_N2_scaled.iloc[:,i] = mm.transform(np.array(c50_N2_scaled.iloc[:,i].values).reshape(-1,1)).flatten()\n",
    "    \n",
    "c60_N2_scaled = c60_N2.copy()\n",
    "# nulify values less than 1000\n",
    "# absolute\n",
    "for i in range(len(c60_N2_scaled.index)):\n",
    "    for j in range(len(c60_N2_scaled.columns)):\n",
    "        if c60_N2_scaled.iloc[i,j]<0:\n",
    "            c60_N2_scaled.iloc[i,j]=0\n",
    "for i in range(len(c60_N2_scaled.columns)):\n",
    "    mm = MinMaxScaler()\n",
    "    mm.fit(np.array(c60_N2_scaled.iloc[:,i].values).reshape(-1,1))\n",
    "    c60_N2_scaled.iloc[:,i] = mm.transform(np.array(c60_N2_scaled.iloc[:,i].values).reshape(-1,1)).flatten()"
   ]
  },
  {
   "cell_type": "code",
   "execution_count": 7,
   "id": "f5e1c9c8-7460-4925-afe8-3414f2d177a6",
   "metadata": {},
   "outputs": [
    {
     "name": "stdout",
     "output_type": "stream",
     "text": [
      "0.6063348416289593 0.5882352941176471\n"
     ]
    }
   ],
   "source": [
    "gradient = c20_N2_scaled['287.76'].diff()/0.5\n",
    "print(gradient.max(), (gradient>0).sum()/len(gradient)) # max and the ratio of positive values"
   ]
  },
  {
   "cell_type": "code",
   "execution_count": null,
   "id": "939e4495-59ce-46b3-a275-d2d807c7f685",
   "metadata": {},
   "outputs": [],
   "source": []
  }
 ],
 "metadata": {
  "kernelspec": {
   "display_name": "Python 3 (ipykernel)",
   "language": "python",
   "name": "python3"
  },
  "language_info": {
   "codemirror_mode": {
    "name": "ipython",
    "version": 3
   },
   "file_extension": ".py",
   "mimetype": "text/x-python",
   "name": "python",
   "nbconvert_exporter": "python",
   "pygments_lexer": "ipython3",
   "version": "3.10.0"
  }
 },
 "nbformat": 4,
 "nbformat_minor": 5
}
